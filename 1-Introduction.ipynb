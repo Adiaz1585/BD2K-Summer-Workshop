{
 "cells": [
  {
   "cell_type": "markdown",
   "metadata": {},
   "source": [
    "# Data Carpentry Genomics Workshop\n",
    "## UC Santa Cruz Computational Genomics Lab\n",
    "\n",
    "Background on BD2K, UCSC Genomics Institute, and Bioinformatics\n",
    "\n",
    "## Bio\n",
    "#### John Vivian\n",
    "\n",
    "#### Jacob Pfeil\n",
    "\n",
    "## Group Introduction\n",
    "* What's your name?\n",
    "* Where are you from?\n",
    "* What is your project for the summer?\n",
    "\n",
    "## Workshop Goals"
   ]
  },
  {
   "cell_type": "markdown",
   "metadata": {},
   "source": [
    "NIH BD2K Center for Big Data in Translational Genomics, UCSC Genomics Institute"
   ]
  }
 ],
 "metadata": {
  "kernelspec": {
   "display_name": "Python 2",
   "language": "python",
   "name": "python2"
  },
  "language_info": {
   "codemirror_mode": {
    "name": "ipython",
    "version": 2
   },
   "file_extension": ".py",
   "mimetype": "text/x-python",
   "name": "python",
   "nbconvert_exporter": "python",
   "pygments_lexer": "ipython2",
   "version": "2.7.11"
  }
 },
 "nbformat": 4,
 "nbformat_minor": 0
}
