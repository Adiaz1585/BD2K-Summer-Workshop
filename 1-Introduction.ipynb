{
 "cells": [
  {
   "cell_type": "markdown",
   "metadata": {},
   "source": [
    "\n",
    "<img src=images/ucsc_banner.png width=500>\n",
    "\n",
    "# BD2K Summer Workshop\n",
    "## UC Santa Cruz Computational Genomics Lab\n",
    "\n",
    "Background on BD2K, UCSC Genomics Institute, and Bioinformatics\n",
    "\n",
    "## Bio\n",
    "#### Brandon Saint-John\n",
    "\n",
    "I am a third year graduate student working in Angela Brooks' Lab. My primary work is developing new methods to utilize nanopore sequencing to understand the positioing of nucleosomes.\n",
    "\n",
    "#### Alexis Thornton\n",
    "I am a second year graduate student in Angela Brooks's Lab. I work on a method to predict the impact of cancer mutations using RNA-seq data. \n",
    "\n",
    "## Group Introduction\n",
    "* What's your name?\n",
    "* Where are you from?\n",
    "* What is your project for the summer?\n",
    "\n",
    "## Workshop Goals\n"
   ]
  },
  {
   "cell_type": "markdown",
   "metadata": {},
   "source": [
    "NIH BD2K Center for Big Data in Translational Genomics, UCSC Genomics Institute\n",
    "\n",
    "Workshop materials were originally developed by John Vivian and Jacob Pfeil"
   ]
  },
  {
   "cell_type": "code",
   "execution_count": null,
   "metadata": {},
   "outputs": [],
   "source": []
  }
 ],
 "metadata": {
  "kernelspec": {
   "display_name": "Python 3",
   "language": "python",
   "name": "python3"
  },
  "language_info": {
   "codemirror_mode": {
    "name": "ipython",
    "version": 3
   },
   "file_extension": ".py",
   "mimetype": "text/x-python",
   "name": "python",
   "nbconvert_exporter": "python",
   "pygments_lexer": "ipython3",
   "version": "3.7.3"
  }
 },
 "nbformat": 4,
 "nbformat_minor": 1
}
