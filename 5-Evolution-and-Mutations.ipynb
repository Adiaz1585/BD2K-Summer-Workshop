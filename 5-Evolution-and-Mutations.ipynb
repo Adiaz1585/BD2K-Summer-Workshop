{
 "cells": [
  {
   "cell_type": "markdown",
   "metadata": {
    "collapsed": true
   },
   "source": [
    "# Evolution and Mutations"
   ]
  },
  {
   "cell_type": "markdown",
   "metadata": {},
   "source": [
    "## Introduction to Evolution\n",
    "\n",
    "<img src=images/natural_selection.png>\n",
    "*http://evolution.berkeley.edu/evolibrary/article/evo_25"
   ]
  },
  {
   "cell_type": "markdown",
   "metadata": {},
   "source": [
    "## Introduction to the dataset\n",
    "\n",
    "Microbes are ideal organisms for exploring 'Long-term Evolution Experiments' (LTEEs) - thousands of generations can be generated and stored in a way that would be virtually impossible for more complex eukaryotic systems. In Blount et al 2012, 12 populations of Escherichia coli were propagated for more than 40,000 generations in a glucose-limited minimal medium. This medium was supplemented with citrate which E. coli cannot metabolize in the aerobic conditions of the experiment.\n",
    "\n",
    "<img src=images/citric_acid.png>\n",
    "\n",
    "\n",
    "Sequencing of the populations at regular time points reveals that spontaneous citrate-using mutants (Cit+) appeared in a population of E.coli (designated Ara-3) at around 31,000 generations. It should be noted that spontaneous Cit+ mutants are extraordinarily rare - inability to metabolize citrate is one of the defining characters of the E. coli species. Eventually, Cit+ mutants became the dominant population as the experimental growth medium contained a high concentration of citrate relative to glucose.\n",
    "\n",
    "Strains from generation 0 to generation 40,000 were sequenced, including ones that were both Cit+ and Cit- after generation 31,000.\n",
    "\n",
    "We want to be able to look at the genome size to see if there is a difference between genome size and the Cit status of the strain. We also want to analyze the sequences to figure out what changes occurred in genomes to make the strains Cit+.\n",
    "\n",
    "   1. What is the distribution of genome sizes for all the strains?\n",
    "   2. Is there a relationship between genome size and Cit status?\n",
    "   3. How many base pair changes are there between the Cit+ and Cit- strains?\n",
    "   4. What are the base pair changes between strains?\n",
    "\n",
    "**Reference**\n",
    "Blount, Z.D., Barrick, J.E., Davidson, C.J., Lenski, R.E. Genomic analysis of a key innovation in an experimental Escherichia coli population (2012) Nature, 489 (7417), pp. 513-518.\n",
    "Data on NCBI SRA: http://www.ncbi.nlm.nih.gov/sra?term=SRA026813\n",
    "\n",
    "Using materials from: http://www.datacarpentry.org/introduction-genomics/01-intro-to-dataset.html\n"
   ]
  },
  {
   "cell_type": "markdown",
   "metadata": {},
   "source": [
    "## Use a dataframe to analyze E. coli data\n",
    "\n",
    "What is the distribution of genome sizes for all the strains?\n",
    "\n",
    "Is there a relationship between genome size and Cit status?"
   ]
  },
  {
   "cell_type": "code",
   "execution_count": null,
   "metadata": {
    "collapsed": true
   },
   "outputs": [],
   "source": []
  },
  {
   "cell_type": "markdown",
   "metadata": {},
   "source": [
    "Data set comes from:\n",
    "https://github.com/datacarpentry/R-genomics/blob/gh-pages/Ecoli_metadata.csv"
   ]
  },
  {
   "cell_type": "markdown",
   "metadata": {},
   "source": [
    "NIH BD2K Center for Big Data in Translational Genomics, UCSC Genomics Institute"
   ]
  }
 ],
 "metadata": {
  "kernelspec": {
   "display_name": "Python 2",
   "language": "python",
   "name": "python2"
  },
  "language_info": {
   "codemirror_mode": {
    "name": "ipython",
    "version": 2
   },
   "file_extension": ".py",
   "mimetype": "text/x-python",
   "name": "python",
   "nbconvert_exporter": "python",
   "pygments_lexer": "ipython2",
   "version": "2.7.11"
  }
 },
 "nbformat": 4,
 "nbformat_minor": 0
}
