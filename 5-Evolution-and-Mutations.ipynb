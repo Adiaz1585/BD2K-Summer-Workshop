{
 "cells": [
  {
   "cell_type": "markdown",
   "metadata": {
    "collapsed": true
   },
   "source": [
    "# Evolution and Mutations"
   ]
  },
  {
   "cell_type": "markdown",
   "metadata": {},
   "source": [
    "## Introduction to Evolution\n",
    "\n",
    "![Natural Selection](images/natural_selection.png)\n",
    "*http://evolution.berkeley.edu/evolibrary/article/evo_25"
   ]
  },
  {
   "cell_type": "markdown",
   "metadata": {},
   "source": [
    "## Introduction to the dataset\n",
    "\n",
    "Microbes are ideal organisms for exploring 'Long-term Evolution Experiments' (LTEEs) - thousands of generations can be generated and stored in a way that would be virtually impossible for more complex eukaryotic systems. In Blount et al 2012, 12 populations of Escherichia coli were propagated for more than 40,000 generations in a glucose-limited minimal medium. This medium was supplemented with citrate which E. coli cannot metabolize in the aerobic conditions of the experiment.\n",
    "\n",
    "![Citrate](images/citric_acid.png)\n",
    "\n",
    "\n",
    "Sequencing of the populations at regular time points reveals that spontaneous citrate-using mutants (Cit+) appeared in a population of E.coli (designated Ara-3) at around 31,000 generations. It should be noted that spontaneous Cit+ mutants are extraordinarily rare - inability to metabolize citrate is one of the defining characters of the E. coli species. Eventually, Cit+ mutants became the dominant population as the experimental growth medium contained a high concentration of citrate relative to glucose.\n",
    "\n",
    "Strains from generation 0 to generation 40,000 were sequenced, including ones that were both Cit+ and Cit- after generation 31,000.\n",
    "\n",
    "For the purposes of this workshop we're going to be working with 6 of the sequence reads from this experiment. We also made up genome sizes for each of the strains, to look at the relationship between Cit status and genome size. The genome sizes are not real data!!\n",
    "SRA Run Number \tClone \tGeneration \tCit \tGenomeSize\n",
    "SRR098028 \tREL1166A \t2,000 \tUnknown \t4.63\n",
    "SRR098281 \tZDB409 \t5,000 \tUnknown \t4.6\n",
    "SRR098283 \tZDB446 \t15,000 \tCit- \t4.66\n",
    "SRR097977 \tCZB152 \t33,000 \tCit+ \t4.8\n",
    "SRR098026 \tCZB154 \t33,000 \tCit+ \t4.76\n",
    "SRR098027 \tCZB199 \t33,000 \tCit- \t4.59\n",
    "\n",
    "\n",
    "We want to be able to look at the genome size to see if there is a difference between genome size and the Cit status of the strain. We also want to analyze the sequences to figure out what changes occurred in genomes to make the strains Cit+. Ultimately, we will answer the questions:\n",
    "\n",
    "   1. What is the distribution of genome sizes for all the strains?\n",
    "   2. Is there a relationship between genome size and Cit status?\n",
    "   3. How many base pair changes are there between the Cit+ and Cit- strains?\n",
    "   4. What are the base pair changes between strains?\n",
    "\n",
    "References\n",
    "\n",
    "Blount, Z.D., Barrick, J.E., Davidson, C.J., Lenski, R.E. Genomic analysis of a key innovation in an experimental Escherichia coli population (2012) Nature, 489 (7417), pp. 513-518.\n",
    "Paper, Supplemental materials\n",
    "Data on NCBI SRA: http://www.ncbi.nlm.nih.gov/sra?term=SRA026813"
   ]
  },
  {
   "cell_type": "markdown",
   "metadata": {},
   "source": [
    "Using materials from: http://www.datacarpentry.org/introduction-genomics/01-intro-to-dataset.html"
   ]
  },
  {
   "cell_type": "markdown",
   "metadata": {},
   "source": [
    "What is the distribution of genome sizes for all the strains?\n",
    "\n",
    "Is there a relationship between genome size and Cit status?\n",
    "\n",
    "How many base pair changes are there between the Cit+ and Cit- strains?\n",
    "\n",
    "What are the base pair changes between strains?"
   ]
  },
  {
   "cell_type": "markdown",
   "metadata": {},
   "source": [
    "Data set comes from:\n",
    "https://github.com/datacarpentry/R-genomics/blob/gh-pages/Ecoli_metadata.csv"
   ]
  }
 ],
 "metadata": {
  "kernelspec": {
   "display_name": "Python 2",
   "language": "python",
   "name": "python2"
  },
  "language_info": {
   "codemirror_mode": {
    "name": "ipython",
    "version": 2
   },
   "file_extension": ".py",
   "mimetype": "text/x-python",
   "name": "python",
   "nbconvert_exporter": "python",
   "pygments_lexer": "ipython2",
   "version": "2.7.11"
  }
 },
 "nbformat": 4,
 "nbformat_minor": 0
}
