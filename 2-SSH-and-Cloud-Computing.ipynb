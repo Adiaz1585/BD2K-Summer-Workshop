{
 "cells": [
  {
   "cell_type": "markdown",
   "metadata": {},
   "source": [
    "![UCSC Banner](images/ucsc_banner.png)\n",
    "\n",
    "# SSH and Cloud Computing\n",
    "## SSH\n",
    "\n",
    "SSH stands for secure shell. It is a method for securely connecting to and interacting with a remote server. It works by using a cryptographic to encrypt the data before it is transferred to the server. The remote server then follows a protocol that allows the two computers to transfer the key to decrypt the data. \n",
    "\n",
    "## Windows\n",
    "Windows users can use MobaXterm to emulate a secure shell environment.\n",
    "> http://mobaxterm.mobatek.net/download-home-edition.html\n",
    "\n",
    "## Mac \n",
    "Mac OS X has a built-in SSH client called Terminal. It is locatec in the Applications Utility folder. \n",
    "\n",
    "#### Generating an SSH Key Pair\n",
    "\n",
    "\n",
    "\n",
    "\n",
    "\n",
    "\n"
   ]
  },
  {
   "cell_type": "markdown",
   "metadata": {},
   "source": []
  },
  {
   "cell_type": "markdown",
   "metadata": {},
   "source": [
    "## Cloud Computing\n",
    "#### AWS"
   ]
  },
  {
   "cell_type": "markdown",
   "metadata": {},
   "source": [
    "#### Connecting to a Remote System"
   ]
  }
 ],
 "metadata": {
  "kernelspec": {
   "display_name": "Python 2",
   "language": "python",
   "name": "python2"
  },
  "language_info": {
   "codemirror_mode": {
    "name": "ipython",
    "version": 2
   },
   "file_extension": ".py",
   "mimetype": "text/x-python",
   "name": "python",
   "nbconvert_exporter": "python",
   "pygments_lexer": "ipython2",
   "version": "2.7.11"
  }
 },
 "nbformat": 4,
 "nbformat_minor": 0
}
