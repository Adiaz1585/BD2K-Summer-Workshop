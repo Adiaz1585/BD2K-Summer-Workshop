{
 "cells": [
  {
   "cell_type": "markdown",
   "metadata": {
    "collapsed": true
   },
   "source": [
    "# Anaconda, IPython, and Dataframes\n",
    "\n",
    "This module covers tools which combine to form an interactive and explorative environment for data science."
   ]
  },
  {
   "cell_type": "markdown",
   "metadata": {},
   "source": [
    "<img src=\"images/anaconda_logo.png\" width=250>\n",
    "\n",
    "Anaconda is a package manager and collection of popular scientific Python tools. Installing Anaconda is an easy way to setup a data analysis environment from scratch without worrying about conflicting dependencies that may arise from installing so many disparate pieces of software. Anaconda supports Windows, Mac OS X, and Linux."
   ]
  },
  {
   "cell_type": "markdown",
   "metadata": {},
   "source": [
    "## IPython\n",
    "\n",
    "IPython stands for *Interactive Python*, and is a beefed version of the standard Python interpreter.\n",
    "\n",
    "Type `ipython` in the terminal to open IPython\n",
    "\n",
    "- **M4.Q1** List some *shell* commands that you can use in IPython.\n",
    "- **M4.A1**\n",
    "- **M4.Q2** Why is this useful?\n",
    "- **M4.A2**\n",
    "\n",
    "Type `a = 'kitties'`.  We've now created `a`, a string variable.  But what are some *methods* that you can perform with this string?  In the standard Python intepreter, you'd have a rather difficult time figuring this out without having to look up Python's [string documentation](https://docs.python.org/2/library/string.html). \n",
    "\n",
    "**Terminology**: A *method* is a function that is associated with a particular *object*. An object can be any unique datatype like an *int* or a *str*. \n",
    "\n",
    "Type `a.` (don't forget the period, or *dot*) and hit *tab*. This returns all of the *dot methods* associated with the *str* object. We see the first method listed is `capitalize`.  Type `a.ca` and hit *tab* again -- this autocompletes the method for us! If we just hit *enter* now, we'll get an error. This is because `capitalize` is a *method*, and all methods and functions are designated in Python by `()`.  So the full command we want is `a.capitalize()`.  \n",
    "\n",
    "- **M4.Q3** What does `a.capitalize()` return? \n",
    "- **M4.A3** \n",
    "- **M4.Q4** How would you *assign* what it returns to a new variable, `b`?\n",
    "- **M4.A4** \n",
    "\n",
    "The reason for the parentheses, is that some methods accept *arguments*. `capitalize` doesn't happen to have any arguments, as it's simply upper-casing the first letter in the string, but what about `count`?\n",
    "\n",
    "Type `a.count()`\n",
    "\n",
    "This will raise an error: `TypeError: count() takes at least 1 argument (0 given)`.  This tells us that *count* requires at least one argument that goes in the parentheses, but 5how do we know what that argument is?  \n",
    "\n",
    "Type `a.count?`\n",
    "\n",
    "```\n",
    "Docstring:\n",
    "S.count(sub[, start[, end]]) -> int\n",
    "\n",
    "Return the number of non-overlapping occurrences of substring sub in\n",
    "string S[start:end].  Optional arguments start and end are interpreted\n",
    "as in slice notation.\n",
    "Type:      builtin_function_or_method\n",
    "```\n",
    "\n",
    "This tells us a lot of information about the `count` method. The first line explains that `count` has a required argument, `sub`, and that it returns an integer (`-> int`).  The rest of the docstring explains `count`'s optional arguments.\n",
    "\n",
    "- **M4.Q5** Provide a valid `count` command.\n",
    "- **M4.A5**\n",
    "- **M4.Q6** Read the docstring carefully and provide a command that uses `count`'s *optional* arguments.\n",
    "- **M4.A6**\n",
    "\n",
    "IPython has a lot more goodies in it, but the above fundamentals give you the basis to explore Python without constantly having to reference online documentation. \n",
    "\n",
    "Great documentation for IPython can be found at: http://ipython.readthedocs.io/en/stable/index.html"
   ]
  },
  {
   "cell_type": "markdown",
   "metadata": {},
   "source": [
    "## Jupyter Notebooks\n",
    "\n",
    "<img src=\"images/jupyter_logo.png\" width=250>\n",
    "\n",
    "Jupyter notebooks used to be called IPython notebooks, but the popularity of notebooks led to the notebook framework being moved into its own project that now supports more languages than just Python.\n",
    "\n"
   ]
  },
  {
   "cell_type": "markdown",
   "metadata": {},
   "source": [
    "### Setting up remote notebook\n",
    "\n"
   ]
  },
  {
   "cell_type": "markdown",
   "metadata": {},
   "source": [
    "## Dataframes\n",
    "#### Basic Concepts\n",
    "#### Pandas"
   ]
  },
  {
   "cell_type": "markdown",
   "metadata": {},
   "source": [
    "NIH BD2K Center for Big Data in Translational Genomics, UCSC Genomics Institute"
   ]
  }
 ],
 "metadata": {
  "kernelspec": {
   "display_name": "Python 2",
   "language": "python",
   "name": "python2"
  },
  "language_info": {
   "codemirror_mode": {
    "name": "ipython",
    "version": 2
   },
   "file_extension": ".py",
   "mimetype": "text/x-python",
   "name": "python",
   "nbconvert_exporter": "python",
   "pygments_lexer": "ipython2",
   "version": "2.7.11"
  }
 },
 "nbformat": 4,
 "nbformat_minor": 0
}
