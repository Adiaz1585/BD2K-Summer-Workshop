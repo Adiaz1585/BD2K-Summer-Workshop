{
 "cells": [
  {
   "cell_type": "markdown",
   "metadata": {},
   "source": [
    "# Command Line and Git"
   ]
  },
  {
   "cell_type": "markdown",
   "metadata": {},
   "source": [
    "![title](images/gvng.jpg)\n",
    "*http://www.datacarpentry.org/shell-genomics/lessons/01_the_filesystem.html"
   ]
  },
  {
   "cell_type": "markdown",
   "metadata": {
    "collapsed": true
   },
   "source": [
    "## Access the shell\n",
    "\n",
    "### Mac\n",
    "Applications -> Utilities -> Terminal\n",
    "\n",
    "### Windows\n",
    "Download and install a terminal emulator like puTTY or MobaXterm\n",
    "\n",
    "### Linux \n",
    "Available by default"
   ]
  },
  {
   "cell_type": "markdown",
   "metadata": {},
   "source": [
    "## Basic Commands\n",
    "\n",
    "We're going to be working with data on a remote linux server. The interface is entirely in text, so we will need to use the command line.\n",
    "\n",
    "Log onto your server using SSH and then we are going to explore the filesystem.\n",
    "\n",
    "The first command we are going to look at is **ls** - list directory contents\n",
    "\n",
    "![title](images/command_line.jpg)\n",
    "\n",
    "Try these different flags:\n",
    "* ls --help\n",
    "* ls --version\n",
    "* ls -lha\n",
    " \n",
    " \n"
   ]
  },
  {
   "cell_type": "markdown",
   "metadata": {
    "collapsed": false
   },
   "source": [
    "## Pro Practice\n",
    "\n"
   ]
  },
  {
   "cell_type": "markdown",
   "metadata": {
    "collapsed": true
   },
   "source": [
    "## Git\n",
    "#### Understanding Git\n",
    "#### Using Git"
   ]
  },
  {
   "cell_type": "markdown",
   "metadata": {},
   "source": [
    "NIH BD2K Center for Big Data in Translational Genomics, UCSC Genomics Institute"
   ]
  }
 ],
 "metadata": {
  "kernelspec": {
   "display_name": "Python 2",
   "language": "python",
   "name": "python2"
  },
  "language_info": {
   "codemirror_mode": {
    "name": "ipython",
    "version": 2
   },
   "file_extension": ".py",
   "mimetype": "text/x-python",
   "name": "python",
   "nbconvert_exporter": "python",
   "pygments_lexer": "ipython2",
   "version": "2.7.11"
  }
 },
 "nbformat": 4,
 "nbformat_minor": 0
}
