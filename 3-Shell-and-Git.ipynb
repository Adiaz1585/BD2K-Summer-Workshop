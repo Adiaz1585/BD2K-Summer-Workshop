{
 "cells": [
  {
   "cell_type": "markdown",
   "metadata": {},
   "source": [
    "# Command Line and Git"
   ]
  },
  {
   "cell_type": "markdown",
   "metadata": {},
   "source": [
    "![title](images/gvng.jpg)\n",
    "*http://www.datacarpentry.org/shell-genomics/lessons/01_the_filesystem.html"
   ]
  },
  {
   "cell_type": "markdown",
   "metadata": {
    "collapsed": true
   },
   "source": [
    "## Access the shell\n",
    "\n",
    "The shell is a basic but powerful way to interact with your computer's operating system. Running commands in a shell can be more difficult at first, but once you become more familiar with the basic commands you will find that you have much more freedom in the way you solve computing tasks. Also, most cutting-edge research tools are first developed for shell interfaces. The shell is where you input commands on the command line.\n",
    "\n",
    "### Mac\n",
    "Applications -> Utilities -> Terminal\n",
    "\n",
    "### Windows\n",
    "Download and install a terminal emulator like PuTTY or MobaXterm\n",
    "\n",
    "### Linux \n",
    "Available by default"
   ]
  },
  {
   "cell_type": "markdown",
   "metadata": {},
   "source": [
    "## Basic Commands\n",
    "\n",
    "We're going to be working with data on a remote linux server. The interface is entirely in text, so we will need to use the command line.\n",
    "\n",
    "Log onto your server using SSH and then we are going to explore the filesystem.\n",
    "\n",
    "The first command we are going to look at is **ls** - list directory contents\n",
    "\n",
    "![title](images/command_line.jpg)\n",
    "\n",
    "Try these different flags:\n",
    "* ls --help\n",
    "* ls --version\n",
    "* ls -lha\n",
    "\n",
    "The manual page for **ls** can be found using this command:\n",
    "```\n",
    "man ls\n",
    "```\n",
    "You can search the manual page by typing / and ther search term. Try searching for what -h does by typing /-h and hitting enter. You can find all instances of the search term by typing n. Shift-N searches in the reverse direction.\n",
    "\n",
    "Another important command is **cd** - change directory. First, let's go to the root of the filesytem. This can be done using:\n",
    "```\n",
    "cd /\n",
    "```\n",
    "Use ls to list all of the files in your root directory. These folders have all of the programs and configuration files that make up your operating system. To go back to your home directory type:\n",
    "```\n",
    "cd ~\n",
    "```\n",
    "Another important utility is **mkdir** - make directory. Let's make a directory in our home directory called **bin**.\n",
    "```\n",
    "mkdir bin \n",
    "```\n",
    "Your ~/bin directory is a good place to store executables."
   ]
  },
  {
   "cell_type": "markdown",
   "metadata": {
    "collapsed": false
   },
   "source": [
    "## Pro Practice\n",
    "\n",
    "1. Count the number of lines in data/titles.csv (look at **wc**)\n",
    "\n",
    "2. Remove the date and sort the titles in the file data/titles.csv in alphabetical order without overwriting the data (look at **sed** or **awk** and **sort**)\n",
    "\n",
    "3. Use the find command to locate a file called cpuinfo and report the number of cpus on the machine.  "
   ]
  },
  {
   "cell_type": "markdown",
   "metadata": {
    "collapsed": true
   },
   "source": [
    "## Git\n",
    "\n",
    "Often when you are writing code, especially when you collaborate with other programmers, you want to keep a working copy of the code base that you can revert to when you inevitably break something. A great way to merge code from several collaborators and to fix broken code while also developing new features is to use a version control system called **git**.\n",
    "\n",
    "<img src=images/git_fig.svg height=\"50%\" width=\"50%\">\n",
    "\n",
    "#### Using Git\n",
    "\n",
    "\n",
    "*[Git tutorial](https://www.atlassian.com/git/tutorials/why-git/git-for-developers)"
   ]
  },
  {
   "cell_type": "markdown",
   "metadata": {},
   "source": [
    "NIH BD2K Center for Big Data in Translational Genomics, UCSC Genomics Institute"
   ]
  }
 ],
 "metadata": {
  "kernelspec": {
   "display_name": "Python 2",
   "language": "python",
   "name": "python2"
  },
  "language_info": {
   "codemirror_mode": {
    "name": "ipython",
    "version": 2
   },
   "file_extension": ".py",
   "mimetype": "text/x-python",
   "name": "python",
   "nbconvert_exporter": "python",
   "pygments_lexer": "ipython2",
   "version": "2.7.11"
  }
 },
 "nbformat": 4,
 "nbformat_minor": 0
}
