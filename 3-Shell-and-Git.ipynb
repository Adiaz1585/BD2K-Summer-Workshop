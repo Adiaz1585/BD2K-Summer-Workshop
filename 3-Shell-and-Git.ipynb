{
 "cells": [
  {
   "cell_type": "markdown",
   "metadata": {},
   "source": [
    "<img src=images/ucsc_banner.png>"
   ]
  },
  {
   "cell_type": "markdown",
   "metadata": {},
   "source": [
    "# Command Line and Git\n",
    "\n",
    "<img src=images/gvng.jpg height=\"75%\">\n",
    "*http://www.datacarpentry.org/shell-genomics/lessons/01_the_filesystem.html"
   ]
  },
  {
   "cell_type": "markdown",
   "metadata": {
    "collapsed": true
   },
   "source": [
    "## Command line interface\n",
    "\n",
    "The command line is the shell interface. The shell is a basic but powerful way to interact with your computer's operating system. Running commands in a shell can be more difficult at first, but once you become more familiar with the basic commands you will find that you have much more freedom in the way you solve computing tasks. Also, most cutting-edge research tools are first developed for shell interfaces. The shell is where you input commands on the command line. There are many shells you can use. The most popular shell is called bash, but other popular shells include zsh, csh, and tcsh. We are going to use bash here. How you start a shell session depends on your operating system. Basically, macs and linux computers have a terminal program by default, but windows users will need to download a client.\n",
    "\n",
    "### Mac\n",
    "Applications -> Utilities -> Terminal\n",
    "\n",
    "### Windows\n",
    "Download and install a terminal emulator like PuTTY or MobaXterm\n",
    "\n",
    "### Linux \n",
    "On Ubuntu there is a shortcut: ctrl-alt-t"
   ]
  },
  {
   "cell_type": "markdown",
   "metadata": {},
   "source": [
    "## Basic Commands\n",
    "\n",
    "We're going to be working with data on a remote linux server. The interface is entirely in text, so we will need to use the command line. Log onto your server using SSH and then we are going to explore the filesystem. The first command we are going to look at is **ls** - list directory contents\n",
    "\n",
    "<img src=images/command_line.jpg>\n",
    "\n",
    "Try these different flags:\n",
    "* ls --help\n",
    "* ls --version\n",
    "* ls -lha\n",
    "\n",
    "The manual page for **ls** can be found using this command:\n",
    "```\n",
    "man ls\n",
    "```\n",
    "You can search the manual page by typing / and then a search term. Try searching for what -h does by typing /-h and hitting enter. You can move the cursor to the next instance of the search term by typing n. Shift-N searches in the reverse direction.\n",
    "\n",
    "Another important command is **cd** - change directory. First, let's go to the root of the filesystem. This can be done using:\n",
    "```\n",
    "cd /\n",
    "```\n",
    "Use ls to list all of the files in your root directory. These folders have all of the programs and configuration files that make up your operating system. \n",
    "\n",
    "<img src=images/filesystem.jpg>\n",
    "\n",
    "\n",
    "\n",
    "To go back to your home directory type:\n",
    "```\n",
    "cd ~\n",
    "```\n",
    "Another important utility is **mkdir** - make directory. Let's make a directory in our home directory called **bin**.\n",
    "```\n",
    "mkdir bin \n",
    "```\n",
    "Your ~/bin directory is a good place to store executables."
   ]
  },
  {
   "cell_type": "markdown",
   "metadata": {
    "collapsed": false
   },
   "source": [
    "## Pro Practice\n",
    "\n",
    "1. Count the number of lines in data/titles.csv (look at **wc**)\n",
    "\n",
    "2. Use the find command to locate a file called cpuinfo and report the number of cpus on the machine.  \n",
    "\n",
    "3. Pipe several commands together to remove the dates in the file data/titles.csv in and sort the titles in alphabetical order. Do not modify data/titles.csv (use **cat**, **sed** or **awk** and **sort**)\n",
    "\n"
   ]
  },
  {
   "cell_type": "markdown",
   "metadata": {
    "collapsed": true
   },
   "source": [
    "## Git\n",
    "\n",
    "Often when you are writing code, especially when you collaborate with other programmers, you want to keep a working copy of the code base that you can revert to when you inevitably break something. A great way to merge code from several collaborators and to fix broken code while also developing new features is to use a version control system called **git**.\n",
    "\n",
    "<img src=images/git_fig.svg height=\"75%\" width=\"75%\">\n",
    "*https://www.atlassian.com/git/tutorials/why-git/git-for-developers\n",
    "\n",
    "## Install git\n",
    "Many computer do not come with git by default. To install git on our remote machine type in this command: \n",
    "\n",
    "```\n",
    "sudo apt-get install git\n",
    "```\n",
    "\n",
    "This is a command to install many different kinds of software. It will show you all of the software to be installed and ask you if you want to continue with the installation. Type Y and enter. The sudo command gives you special permission to modify important files and directories. With great power comes great responsibility, so be careful whenever you use the sudo command!\n",
    "\n",
    "Now enter **git** into the command line and you should see all of the git commands you can run.\n",
    "\n",
    "## Make a github account\n",
    "\n",
    "Go to [github](https://github.com/) and click the sign up button. This is a great place to save your code in case your laptop breaks or gets stolen. It's also a great place to collaborate on projects and to share your code with others. Git and github have special vocabulary you will need to learn to get the most out of this software. For instance, you store your code in what is called a github repository or repo.\n",
    "\n",
    "Once you have your github account set up, go to the [workshop repository](https://github.com/jvivian/BD2K-Summer-Workshop). Here is all of the code we prepared for the workshop. To make your own working copy of the repository, **fork** it by clicking the fork button. Now you own a copy of the repo you can download and make changes to. To download your workshop repo go to the terminal session that is connected to the remote server and type using your own github repo:\n",
    "\n",
    "```\n",
    "git clone https://url/to/your/repo\n",
    "```\n",
    "\n",
    "Let's **cd** into the repo and list the files using **ls**. Let's check the status of the repo using this command:\n",
    "\n",
    "```\n",
    "git status\n",
    "```\n",
    "\n",
    "It should say the directory is clean."
   ]
  },
  {
   "cell_type": "markdown",
   "metadata": {},
   "source": [
    "NIH BD2K Center for Big Data in Translational Genomics, UCSC Genomics Institute"
   ]
  }
 ],
 "metadata": {
  "kernelspec": {
   "display_name": "Python 2",
   "language": "python",
   "name": "python2"
  },
  "language_info": {
   "codemirror_mode": {
    "name": "ipython",
    "version": 2
   },
   "file_extension": ".py",
   "mimetype": "text/x-python",
   "name": "python",
   "nbconvert_exporter": "python",
   "pygments_lexer": "ipython2",
   "version": "2.7.11"
  }
 },
 "nbformat": 4,
 "nbformat_minor": 0
}
