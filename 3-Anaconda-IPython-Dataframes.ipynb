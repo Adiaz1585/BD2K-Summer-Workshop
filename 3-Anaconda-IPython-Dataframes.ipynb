{
 "cells": [
  {
   "cell_type": "markdown",
   "metadata": {
    "collapsed": true
   },
   "source": [
    "<img src=images/ucsc_banner.png width=500>\n",
    "# Anaconda, IPython, and Dataframes\n",
    "\n",
    "This module covers tools which combine to form an interactive and explorative environment for data science."
   ]
  },
  {
   "cell_type": "markdown",
   "metadata": {},
   "source": [
    "<img src=\"images/anaconda_logo.png\" width=250>\n",
    "\n",
    "Anaconda is a package manager and collection of popular scientific Python tools. Installing Anaconda is an easy way to setup a data analysis environment from scratch without worrying about conflicting dependencies that may arise from installing so many disparate pieces of software. Anaconda supports Windows, Mac OS X, and Linux."
   ]
  },
  {
   "cell_type": "markdown",
   "metadata": {},
   "source": [
    "# IPython\n",
    "\n",
    "IPython stands for *Interactive Python*, and is a beefed version of the standard Python interpreter.\n",
    "\n",
    "Type `ipython` in the terminal to open IPython\n",
    "\n",
    "- **M4.Q1** List some *shell* commands that you can use in IPython.\n",
    "- **M4.A1**\n",
    "- **M4.Q2** Why is this useful?\n",
    "- **M4.A2**\n",
    "\n",
    "Type: `a = 'kitties'`  \n",
    "\n",
    "We've now created `a`, a string variable.  But what are some *methods* that you can perform with this string?  In the standard Python intepreter, you'd have a rather difficult time figuring this out without having to look up Python's [string documentation](https://docs.python.org/2/library/string.html). \n",
    "\n",
    "**Terminology**: A *method* is a function that is associated with a particular *object*. An object can be any unique datatype like an *int* or a *str*. \n",
    "\n",
    "Type: `a.` \n",
    "\n",
    "(don't forget the period, or *dot*) and hit *tab*. This returns all of the *dot methods* associated with the *str* object. We see the first method listed is `capitalize`.  Type `a.ca` and hit *tab* again -- this autocompletes the method for us! If we just hit *enter* now, we'll get an error. This is because `capitalize` is a *method*, and all methods and functions are designated in Python by `()`.  So the full command we want is `a.capitalize()`.  \n",
    "\n",
    "- **M4.Q3** What does `a.capitalize()` return? \n",
    "- **M4.A3** \n",
    "- **M4.Q4** How would you *assign* what it returns to a new variable, `b`?\n",
    "- **M4.A4** \n",
    "\n",
    "The reason for the parentheses, is that some methods accept *arguments*. `capitalize` doesn't happen to have any arguments, as it's simply upper-casing the first letter in the string, but what about `count`?\n",
    "\n",
    "Type: `a.count()`\n",
    "\n",
    "This will raise an error: `TypeError: count() takes at least 1 argument (0 given)`.  This tells us that *count* requires at least one argument that goes in the parentheses, but how do we know what that argument is?  \n",
    "\n",
    "Type: `a.count?`\n",
    "\n",
    "```\n",
    "Docstring:\n",
    "S.count(sub[, start[, end]]) -> int\n",
    "\n",
    "Return the number of non-overlapping occurrences of substring sub in\n",
    "string S[start:end].  Optional arguments start and end are interpreted\n",
    "as in slice notation.\n",
    "Type:      builtin_function_or_method\n",
    "```\n",
    "\n",
    "This tells us a lot of information about the `count` method. The first line explains that `count` has a required argument, `sub`, and that it returns an integer (`-> int`).  The rest of the docstring explains `count`'s optional arguments.\n",
    "\n",
    "- **M4.Q5** Provide a valid `count` command.\n",
    "- **M4.A5**\n",
    "- **M4.Q6** Read the docstring carefully and provide a command that uses `count`'s *optional* arguments.\n",
    "- **M4.A6**\n",
    "\n",
    "IPython has a lot more goodies in it, but the above fundamentals give you the basis to explore Python without constantly having to reference documentation. \n",
    "\n",
    "Documentation for IPython can be found at: http://ipython.readthedocs.io/en/stable/index.html"
   ]
  },
  {
   "cell_type": "markdown",
   "metadata": {},
   "source": [
    "# Jupyter Notebooks\n",
    "\n",
    "<img src=\"images/jupyter_logo.png\" width=250>\n",
    "\n",
    "Jupyter notebooks used to be called IPython notebooks, but the popularity of notebooks led to the notebook framework being moved into its own project that now supports more languages than just Python.\n",
    "\n"
   ]
  },
  {
   "cell_type": "markdown",
   "metadata": {},
   "source": [
    "## Setting up remote notebook\n",
    "\n",
    "We want to work on these IPython notebook on our remote server, but notebooks require a GUI to use. We'll launch the notebooks on the remote server, and access them from our local machine using port forwarding.\n",
    "\n",
    "On your remote machine:\n",
    "\n",
    "Type: `screen`\n",
    "\n",
    "This opens a separate terminal so your notebook will stay running even if your SSH instance gets logged out.  You can exit the screen by typing `ctrl+a` then hitting `d`, and resume your screen session by typing `screen -r`.\n",
    "\n",
    "Type: `jupyter notebook --no-browser`\n",
    "\n",
    "From your *local* machine (open a new tab or exit your ssh session):\n",
    "\n",
    "Linux / Mac OSx\n",
    "```\n",
    "ssh -NL 8157:localhost:8888 ubuntu@your-remote-machine-public-dns\n",
    "```\n",
    "\n",
    "You should now be able to point your browser to http://localhost:8157 and see the jupyter notebook startup screen.\n",
    "\n",
    " \n",
    "## Basics\n",
    "\n",
    "The Jupyter Notebook is a web application that allows you to create and share documents that contain live code, equations, visualizations and explanatory text. Uses include: data cleaning and transformation, numerical simulation, statistical modeling, machine learning and much more.\n",
    "\n",
    "Jupyter notebooks are comprised of *cells* that allow a user to write small blocks of code or text and execute them.  You can use the menu at the top to create / delete / arrange cells, or you can click **Help -> Keyboard Shortcuts**. I primarily use only two types of cells: code cells and *Markdown* cells for text formatting.  \n",
    "\n",
    "Besides codifying a methodology in a format that allows for narration to be placed alongside the code used to achieve the result, notebooks are great way to share your research with others as they can download your notebook and run it for themselves.\n",
    "\n",
    "We'll be using notebooks to visualize *dataframes* and execute Python code on those dataframes all in a single environment."
   ]
  },
  {
   "cell_type": "markdown",
   "metadata": {},
   "source": [
    "# Dataframes\n",
    "\n",
    "A *dataframe* is an abstract concept for **(deep breath)** size-mutable \"labeled arrays\" that handle heterogeneous data.  If anyone has used the R programming language, then you're already familiar with what a dataframe is. For those who haven't used R, it simply takes the concept of an *array* of data, and applies hierarchical labeling.\n",
    "\n",
    "## Pandas\n",
    "\n",
    "Pandas is a Python implementation of the the dataframes model with a ton of cool features. I'll let the author himself provide a brief overview of Pandas: https://vimeo.com/59324550\n",
    "\n",
    "I mostly use Pandas for exploratory data science work, some examples of which can be checked out here:\n",
    "\n",
    "**Similarity Comparison Between Two RNA-Seq Pipelines** <br>\n",
    "https://github.com/jvivian/ipython_notebooks/blob/master/RSEM_comparison/RSEM_comparison.ipynb\n",
    "\n",
    "**Fitting a Distribution to Kallisto Bootstraps** <br>\n",
    "https://github.com/jvivian/ipython_notebooks/blob/master/kallisto_boostraps/Kallisto%20Bootstraps.ipynb\n",
    "\n",
    "\n",
    "## Data \n",
    "\n",
    "To play around with Pandas, we'll look at some data from IMDB, the internet movie database.\n",
    "\n",
    "Download cast.csv to the **data/** directory in your forked repo with the following URL: <br>\n",
    "https://drive.google.com/file/d/0ByHO8wS-fc8HTFJpZDE0T3RBcG8/view?usp=sharing"
   ]
  },
  {
   "cell_type": "code",
   "execution_count": null,
   "metadata": {},
   "outputs": [],
   "source": [
    "import pandas as pd"
   ]
  },
  {
   "cell_type": "markdown",
   "metadata": {},
   "source": [
    "We'll use some CSS styling to make our tables look pretty. This doesn't translate if you view the notebook from Github."
   ]
  },
  {
   "cell_type": "code",
   "execution_count": null,
   "metadata": {},
   "outputs": [],
   "source": [
    "from IPython.core.display import HTML\n",
    "css = open('style-table.css').read() + open('style-notebook.css').read()\n",
    "HTML('<style>{}</style>'.format(css))"
   ]
  },
  {
   "cell_type": "markdown",
   "metadata": {},
   "source": [
    "Now let's read in our dataframes"
   ]
  },
  {
   "cell_type": "code",
   "execution_count": null,
   "metadata": {},
   "outputs": [],
   "source": [
    "titles = pd.DataFrame.from_csv('data/titles.csv', index_col=None)\n",
    "cast = pd.DataFrame.from_csv('data/cast.csv', index_col=None)"
   ]
  },
  {
   "cell_type": "markdown",
   "metadata": {},
   "source": [
    "There are two main datatypes in Pandas: DataFrames and Series. It's easiest to think of a single column of a pandas dataframe as a series."
   ]
  },
  {
   "cell_type": "code",
   "execution_count": null,
   "metadata": {},
   "outputs": [],
   "source": [
    "type(titles)"
   ]
  },
  {
   "cell_type": "code",
   "execution_count": null,
   "metadata": {},
   "outputs": [],
   "source": [
    "type(titles.title)"
   ]
  },
  {
   "cell_type": "markdown",
   "metadata": {},
   "source": [
    "Two of the most useful pandas methods are `head` and `tail`."
   ]
  },
  {
   "cell_type": "code",
   "execution_count": null,
   "metadata": {
    "scrolled": false
   },
   "outputs": [],
   "source": [
    "titles.head()"
   ]
  },
  {
   "cell_type": "code",
   "execution_count": null,
   "metadata": {
    "scrolled": true
   },
   "outputs": [],
   "source": [
    "cast.tail()"
   ]
  },
  {
   "cell_type": "markdown",
   "metadata": {},
   "source": [
    "## Dataframe Operations"
   ]
  },
  {
   "cell_type": "markdown",
   "metadata": {},
   "source": [
    "We can look at any column in our dataframe by using array notation `['column_name']` or dot-method notation."
   ]
  },
  {
   "cell_type": "code",
   "execution_count": null,
   "metadata": {
    "scrolled": true
   },
   "outputs": [],
   "source": [
    "titles.columns"
   ]
  },
  {
   "cell_type": "code",
   "execution_count": null,
   "metadata": {
    "scrolled": false
   },
   "outputs": [],
   "source": [
    "titles['title'].head()"
   ]
  },
  {
   "cell_type": "code",
   "execution_count": null,
   "metadata": {
    "scrolled": false
   },
   "outputs": [],
   "source": [
    "titles.title.head()"
   ]
  },
  {
   "cell_type": "markdown",
   "metadata": {},
   "source": [
    "There are a lot of built-in dataframe methods"
   ]
  },
  {
   "cell_type": "code",
   "execution_count": null,
   "metadata": {},
   "outputs": [],
   "source": [
    "titles.count()"
   ]
  },
  {
   "cell_type": "code",
   "execution_count": null,
   "metadata": {},
   "outputs": [],
   "source": [
    "titles.sort_values('title').head()"
   ]
  },
  {
   "cell_type": "code",
   "execution_count": null,
   "metadata": {},
   "outputs": [],
   "source": [
    "titles.sort_values('year').head()"
   ]
  },
  {
   "cell_type": "markdown",
   "metadata": {},
   "source": [
    "#### Conditionals\n",
    "\n",
    "Filtering dataframes can be a bit unintuitive at first, but make sense once you've done it a few times.\n",
    "\n",
    "Say we wanted to look at every movie named **Hamlet**, how would we do that?  You might try something like:"
   ]
  },
  {
   "cell_type": "code",
   "execution_count": null,
   "metadata": {
    "scrolled": true
   },
   "outputs": [],
   "source": [
    "titles.title == 'Hamlet'"
   ]
  },
  {
   "cell_type": "markdown",
   "metadata": {},
   "source": [
    "Whoa, what is this? What we've gotten back is a *boolean* list of every title and whether or not it's named **Hamlet**, which we can see a majority of are False.  We can use this to filter our original dataframe by *subsetting it*. "
   ]
  },
  {
   "cell_type": "code",
   "execution_count": null,
   "metadata": {},
   "outputs": [],
   "source": [
    "titles[titles.title == 'Hamlet'].head()"
   ]
  },
  {
   "cell_type": "markdown",
   "metadata": {},
   "source": [
    "If you have multiple conditionals, you need to wrap them with parentheses and combine them with the `&` operator."
   ]
  },
  {
   "cell_type": "code",
   "execution_count": null,
   "metadata": {},
   "outputs": [],
   "source": [
    "titles[(titles.year < 1959) & (titles.year > 1955)].head()"
   ]
  },
  {
   "cell_type": "markdown",
   "metadata": {},
   "source": [
    "Working with Dataframes is *functional*. You can string together many functions and operations."
   ]
  },
  {
   "cell_type": "code",
   "execution_count": null,
   "metadata": {
    "scrolled": true
   },
   "outputs": [],
   "source": [
    "titles[(titles.year < 1959) & (titles.year > 1955)].sort_values('year').head(2)"
   ]
  },
  {
   "cell_type": "code",
   "execution_count": null,
   "metadata": {},
   "outputs": [],
   "source": [
    "titles[(titles.year < 1959) | (titles.year > 1955)].sort_values('year').head(2)"
   ]
  },
  {
   "cell_type": "markdown",
   "metadata": {},
   "source": [
    "#### Mutability\n",
    "\n",
    "Another thing that takes some getting used to is Pandas *mutability*.  Pandas prefers never to *mutate*, or change, a dataframe object unless you explicitly tell it to. Instead, it creates a copy and assigns that to the new dataframe."
   ]
  },
  {
   "cell_type": "code",
   "execution_count": null,
   "metadata": {
    "scrolled": false
   },
   "outputs": [],
   "source": [
    "sorted_titles = titles.sort_values('year')\n",
    "sorted_titles.head()"
   ]
  },
  {
   "cell_type": "markdown",
   "metadata": {},
   "source": [
    "If you want to force a change into a dataframe, use the `inplace=True` argument."
   ]
  },
  {
   "cell_type": "code",
   "execution_count": null,
   "metadata": {},
   "outputs": [],
   "source": [
    "titles.sort_values('year', inplace=True)\n",
    "titles.head()"
   ]
  },
  {
   "cell_type": "markdown",
   "metadata": {},
   "source": [
    "## Exercises\n",
    "Borrowed from the great Brandon Rhodes: http://rhodesmill.org/brandon/\n",
    "\n",
    "Most (if not all) of these exercises can be done in a single line. Be precise! If a question asks \"How many movies...\", then your answer should return a number."
   ]
  },
  {
   "cell_type": "markdown",
   "metadata": {},
   "source": [
    "### What are the earliest two films listed in the titles dataframe?"
   ]
  },
  {
   "cell_type": "code",
   "execution_count": null,
   "metadata": {},
   "outputs": [],
   "source": []
  },
  {
   "cell_type": "markdown",
   "metadata": {},
   "source": [
    "### How many movies have the title \"Hamlet\"?"
   ]
  },
  {
   "cell_type": "code",
   "execution_count": null,
   "metadata": {},
   "outputs": [],
   "source": []
  },
  {
   "cell_type": "markdown",
   "metadata": {},
   "source": [
    "### How many movies are titled \"North by Northwest\"?"
   ]
  },
  {
   "cell_type": "code",
   "execution_count": null,
   "metadata": {},
   "outputs": [],
   "source": []
  },
  {
   "cell_type": "markdown",
   "metadata": {},
   "source": [
    "### When was the first movie titled \"Hamlet\" made?"
   ]
  },
  {
   "cell_type": "code",
   "execution_count": null,
   "metadata": {},
   "outputs": [],
   "source": []
  },
  {
   "cell_type": "markdown",
   "metadata": {},
   "source": [
    "### List all of the \"Treasure Island\" movies from earliest to most recent."
   ]
  },
  {
   "cell_type": "code",
   "execution_count": null,
   "metadata": {},
   "outputs": [],
   "source": []
  },
  {
   "cell_type": "markdown",
   "metadata": {},
   "source": [
    "### How many movies were made in the year 1950?"
   ]
  },
  {
   "cell_type": "code",
   "execution_count": null,
   "metadata": {},
   "outputs": [],
   "source": []
  },
  {
   "cell_type": "markdown",
   "metadata": {},
   "source": [
    "### How many movies were made in the year 1960?"
   ]
  },
  {
   "cell_type": "code",
   "execution_count": null,
   "metadata": {},
   "outputs": [],
   "source": []
  },
  {
   "cell_type": "markdown",
   "metadata": {},
   "source": [
    "### How many movies were made from 1950 through 1959?"
   ]
  },
  {
   "cell_type": "code",
   "execution_count": null,
   "metadata": {},
   "outputs": [],
   "source": []
  },
  {
   "cell_type": "markdown",
   "metadata": {},
   "source": [
    "### In what years has a movie titled \"Batman\" been released?"
   ]
  },
  {
   "cell_type": "code",
   "execution_count": null,
   "metadata": {},
   "outputs": [],
   "source": []
  },
  {
   "cell_type": "markdown",
   "metadata": {},
   "source": [
    "### How many roles were there in the movie \"Inception\"?"
   ]
  },
  {
   "cell_type": "code",
   "execution_count": null,
   "metadata": {},
   "outputs": [],
   "source": []
  },
  {
   "cell_type": "markdown",
   "metadata": {},
   "source": [
    "### How many roles in the movie \"Inception\" are NOT ranked by an \"n\" value?"
   ]
  },
  {
   "cell_type": "code",
   "execution_count": null,
   "metadata": {},
   "outputs": [],
   "source": []
  },
  {
   "cell_type": "markdown",
   "metadata": {},
   "source": [
    "### But how many roles in the movie \"Inception\" did receive an \"n\" value?"
   ]
  },
  {
   "cell_type": "code",
   "execution_count": null,
   "metadata": {},
   "outputs": [],
   "source": []
  },
  {
   "cell_type": "markdown",
   "metadata": {},
   "source": [
    "### Display the cast of \"North by Northwest\" in their correct \"n\"-value order, ignoring roles that did not earn a numeric \"n\" value."
   ]
  },
  {
   "cell_type": "code",
   "execution_count": null,
   "metadata": {},
   "outputs": [],
   "source": []
  },
  {
   "cell_type": "markdown",
   "metadata": {},
   "source": [
    "### Display the entire cast, in \"n\"-order, of the 1972 film \"Sleuth\"."
   ]
  },
  {
   "cell_type": "code",
   "execution_count": null,
   "metadata": {},
   "outputs": [],
   "source": []
  },
  {
   "cell_type": "markdown",
   "metadata": {},
   "source": [
    "### Now display the entire cast, in \"n\"-order, of the 2007 version of \"Sleuth\"."
   ]
  },
  {
   "cell_type": "code",
   "execution_count": null,
   "metadata": {},
   "outputs": [],
   "source": []
  },
  {
   "cell_type": "markdown",
   "metadata": {},
   "source": [
    "### How many roles were credited in the silent 1921 version of Hamlet?"
   ]
  },
  {
   "cell_type": "code",
   "execution_count": null,
   "metadata": {},
   "outputs": [],
   "source": []
  },
  {
   "cell_type": "markdown",
   "metadata": {},
   "source": [
    "### How many roles were credited in Branagh’s 1996 Hamlet?"
   ]
  },
  {
   "cell_type": "code",
   "execution_count": null,
   "metadata": {},
   "outputs": [],
   "source": []
  },
  {
   "cell_type": "markdown",
   "metadata": {},
   "source": [
    "### How many \"Hamlet\" roles have been listed in all film credits through history?"
   ]
  },
  {
   "cell_type": "code",
   "execution_count": null,
   "metadata": {},
   "outputs": [],
   "source": []
  },
  {
   "cell_type": "markdown",
   "metadata": {},
   "source": [
    "### How many people have played an \"Ophelia\"?"
   ]
  },
  {
   "cell_type": "code",
   "execution_count": null,
   "metadata": {},
   "outputs": [],
   "source": []
  },
  {
   "cell_type": "markdown",
   "metadata": {},
   "source": [
    "### How many people have played a role called \"The Dude\"?"
   ]
  },
  {
   "cell_type": "code",
   "execution_count": null,
   "metadata": {},
   "outputs": [],
   "source": []
  },
  {
   "cell_type": "markdown",
   "metadata": {},
   "source": [
    "### How many people have played a role called \"The Stranger\"?"
   ]
  },
  {
   "cell_type": "code",
   "execution_count": null,
   "metadata": {},
   "outputs": [],
   "source": []
  },
  {
   "cell_type": "markdown",
   "metadata": {},
   "source": [
    "### How many roles has Sidney Poitier played throughout his career?"
   ]
  },
  {
   "cell_type": "code",
   "execution_count": null,
   "metadata": {},
   "outputs": [],
   "source": []
  },
  {
   "cell_type": "markdown",
   "metadata": {},
   "source": [
    "### How many roles has Judi Dench played?"
   ]
  },
  {
   "cell_type": "code",
   "execution_count": null,
   "metadata": {},
   "outputs": [],
   "source": []
  },
  {
   "cell_type": "markdown",
   "metadata": {},
   "source": [
    "### List the supporting roles (having n=2) played by Cary Grant in the 1940s, in order by year."
   ]
  },
  {
   "cell_type": "code",
   "execution_count": null,
   "metadata": {},
   "outputs": [],
   "source": []
  },
  {
   "cell_type": "markdown",
   "metadata": {},
   "source": [
    "### List the leading roles that Cary Grant played in the 1940s in order by year."
   ]
  },
  {
   "cell_type": "code",
   "execution_count": null,
   "metadata": {},
   "outputs": [],
   "source": []
  },
  {
   "cell_type": "markdown",
   "metadata": {},
   "source": [
    "### How many roles were available for actors in the 1950s?"
   ]
  },
  {
   "cell_type": "code",
   "execution_count": null,
   "metadata": {},
   "outputs": [],
   "source": []
  },
  {
   "cell_type": "markdown",
   "metadata": {},
   "source": [
    "### How many roles were avilable for actresses in the 1950s?"
   ]
  },
  {
   "cell_type": "code",
   "execution_count": null,
   "metadata": {},
   "outputs": [],
   "source": []
  },
  {
   "cell_type": "markdown",
   "metadata": {},
   "source": [
    "### How many leading roles (n=1) were available from the beginning of film history through 1980?"
   ]
  },
  {
   "cell_type": "code",
   "execution_count": null,
   "metadata": {},
   "outputs": [],
   "source": []
  },
  {
   "cell_type": "markdown",
   "metadata": {},
   "source": [
    "### How many non-leading roles were available through from the beginning of film history through 1980?"
   ]
  },
  {
   "cell_type": "code",
   "execution_count": null,
   "metadata": {},
   "outputs": [],
   "source": []
  },
  {
   "cell_type": "markdown",
   "metadata": {},
   "source": [
    "### How many roles through 1980 were minor enough that they did not warrant a numeric \"n\" rank?"
   ]
  },
  {
   "cell_type": "code",
   "execution_count": null,
   "metadata": {},
   "outputs": [],
   "source": []
  },
  {
   "cell_type": "markdown",
   "metadata": {},
   "source": [
    "NIH BD2K Center for Big Data in Translational Genomics, UCSC Genomics Institute"
   ]
  }
 ],
 "metadata": {
  "kernelspec": {
   "display_name": "Python 3",
   "language": "python",
   "name": "python3"
  },
  "language_info": {
   "codemirror_mode": {
    "name": "ipython",
    "version": 3
   },
   "file_extension": ".py",
   "mimetype": "text/x-python",
   "name": "python",
   "nbconvert_exporter": "python",
   "pygments_lexer": "ipython3",
   "version": "3.7.3"
  }
 },
 "nbformat": 4,
 "nbformat_minor": 1
}
